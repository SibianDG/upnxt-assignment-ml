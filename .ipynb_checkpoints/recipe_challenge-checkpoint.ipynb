{
 "cells": [
  {
   "cell_type": "markdown",
   "id": "8836cbdc",
   "metadata": {},
   "source": [
    "# Imports"
   ]
  },
  {
   "cell_type": "code",
   "execution_count": 2,
   "id": "87406656",
   "metadata": {},
   "outputs": [],
   "source": [
    "import pickle\n",
    "\n",
    "import numpy as np\n",
    "# further imports go here\n",
    "from sklearn.tree import DecisionTreeClassifier\n",
    "from sklearn.model_selection import train_test_split\n",
    "from sklearn.metrics import accuracy_score\n"
   ]
  },
  {
   "cell_type": "markdown",
   "id": "06a48ed0",
   "metadata": {},
   "source": [
    "# Load Data"
   ]
  },
  {
   "cell_type": "code",
   "execution_count": 16,
   "id": "124406a5",
   "metadata": {},
   "outputs": [
    {
     "name": "stdout",
     "output_type": "stream",
     "text": [
      "19417\n",
      "4855\n"
     ]
    }
   ],
   "source": [
    "with open('train_set_top_5.pkl', 'rb') as f:\n",
    "    train_set_top_5 = pickle.load(f)\n",
    "train_set_top_5 = np.array(train_set_top_5)\n",
    "\n",
    "with open('test_set_top_5.pkl', 'rb') as f:\n",
    "    test_set_top_5 = pickle.load(f)\n",
    "test_set_top_5 = np.array(test_set_top_5)\n",
    "\n",
    "\n",
    "print(len(train_set_top_5))\n",
    "print(len(test_set_top_5))\n",
    "\n",
    "\n",
    "test_set_top_5 = np.array(test_set_top_5)\n"
   ]
  },
  {
   "cell_type": "code",
   "execution_count": 7,
   "id": "644dae9e",
   "metadata": {
    "scrolled": true
   },
   "outputs": [
    {
     "data": {
      "text/plain": [
       "['parmesan cheese',\n",
       " 'salt',\n",
       " 'water',\n",
       " 'tomato salsa',\n",
       " 'black pepper',\n",
       " 'cooking spray',\n",
       " 'grits',\n",
       " 'garlic powder',\n",
       " 'extra-virgin olive oil']"
      ]
     },
     "execution_count": 7,
     "metadata": {},
     "output_type": "execute_result"
    }
   ],
   "source": [
    "train_set_top_5[3]['ingredients']"
   ]
  },
  {
   "cell_type": "markdown",
   "id": "0837368a",
   "metadata": {},
   "source": [
    "# Inspect Labels"
   ]
  },
  {
   "cell_type": "code",
   "execution_count": 4,
   "id": "32a300db",
   "metadata": {},
   "outputs": [
    {
     "data": {
      "text/plain": [
       "[('italian', 6294),\n",
       " ('mexican', 5133),\n",
       " ('southern_us', 3445),\n",
       " ('indian', 2435),\n",
       " ('chinese', 2110)]"
      ]
     },
     "execution_count": 4,
     "metadata": {},
     "output_type": "execute_result"
    }
   ],
   "source": [
    "import collections\n",
    "labels = [el[\"cuisine\"] for el in train_set_top_5]\n",
    "sorted(collections.Counter(labels).items(), key=lambda x: x[1], reverse=True)"
   ]
  },
  {
   "cell_type": "markdown",
   "id": "4b094c85",
   "metadata": {},
   "source": [
    "# Preprocessing & Feature Engineering"
   ]
  },
  {
   "cell_type": "code",
   "execution_count": 6,
   "id": "da280362",
   "metadata": {},
   "outputs": [
    {
     "data": {
      "text/plain": [
       "[('italian', 1544),\n",
       " ('mexican', 1305),\n",
       " ('southern_us', 875),\n",
       " ('indian', 568),\n",
       " ('chinese', 563)]"
      ]
     },
     "execution_count": 6,
     "metadata": {},
     "output_type": "execute_result"
    }
   ],
   "source": [
    "import collections\n",
    "labels = [el[\"cuisine\"] for el in train_set_top_5]\n",
    "labels_unique = set(labels)\n",
    "number_of_cuisines = sorted(collections.Counter(labels).items(), key=lambda x: x[1], reverse=True)\n"
   ]
  },
  {
   "cell_type": "code",
   "execution_count": 19,
   "id": "eae7f53b",
   "metadata": {},
   "outputs": [
    {
     "name": "stdout",
     "output_type": "stream",
     "text": [
      "5058\n",
      "0\n"
     ]
    }
   ],
   "source": [
    "# ingredients_train = set()\n",
    "# ingredients_test = set()\n",
    "# for recipe in train_set_top_5:\n",
    "#     for ingredient in recipe['ingredients']:\n",
    "#         ingredients_train.add(ingredient)\n",
    "# for recipe in test_set_top_5:\n",
    "#     for ingredient in recipe['ingredients']:\n",
    "#         ingredients_test.add(ingredient)\n",
    "\n",
    "# print(len(ingredients_train))\n",
    "# print(len(ingredients_train))\n",
    "\n",
    "# print(len(notInSet))\n",
    "\n",
    "# for i in ingredients_train:\n",
    "#     if i not in ingredients_test:\n",
    "#         notInSet.add(i)\n"
   ]
  },
  {
   "cell_type": "markdown",
   "id": "c90daa76",
   "metadata": {},
   "source": [
    "## Data visualisation"
   ]
  },
  {
   "cell_type": "code",
   "execution_count": null,
   "id": "36674c64",
   "metadata": {},
   "outputs": [],
   "source": [
    "import matplotlib.pyplot as plt\n",
    "\n"
   ]
  },
  {
   "cell_type": "markdown",
   "id": "56e157ce",
   "metadata": {},
   "source": [
    "### Histogram no. of cuisines"
   ]
  },
  {
   "cell_type": "code",
   "execution_count": null,
   "id": "2c135ed1",
   "metadata": {},
   "outputs": [],
   "source": [
    "# histogram\n",
    "plt.hist(labels, color='green', histtype='bar')\n",
    "plt.xlabel('Cuisine')\n",
    "plt.ylabel('#')\n",
    "plt.title('Histogram no. of cuisines')\n",
    "plt.show()"
   ]
  },
  {
   "cell_type": "markdown",
   "id": "2234b3c8",
   "metadata": {},
   "source": [
    "### no. of Ingredients"
   ]
  },
  {
   "cell_type": "code",
   "execution_count": null,
   "id": "318f6200",
   "metadata": {},
   "outputs": [],
   "source": [
    "# no. of Ingredients\n",
    "no_of_ingredients = [len(el['ingredients']) for el in train_set_top_5]\n",
    "\n",
    "plt.hist(no_of_ingredients, color='green', histtype='bar')\n",
    "plt.xlabel('ingredients')\n",
    "plt.ylabel('#')\n",
    "plt.title('no. of Ingredients')\n",
    "plt.show()"
   ]
  },
  {
   "cell_type": "markdown",
   "id": "a01d20c0",
   "metadata": {},
   "source": [
    "### avg number of ingredients by cuisine"
   ]
  },
  {
   "cell_type": "code",
   "execution_count": null,
   "id": "19bae211",
   "metadata": {},
   "outputs": [],
   "source": [
    "# avg number of ingredients by cuisine\n",
    "avg_ingredients = {}\n",
    "for label in labels_unique:\n",
    "    avg_ingredients[label] = 0\n",
    "for el in train_set_top_5:\n",
    "    avg_ingredients[el['cuisine']] += len(el['ingredients'])\n",
    "for c in number_of_cuisines:\n",
    "    avg_ingredients[c[0]] = avg_ingredients[c[0]] / c[1]\n",
    "print(avg_ingredients)\n",
    "avg_numbers = [value for key, value in avg_ingredients.items()]\n",
    "print(avg_numbers)\n",
    "\n",
    "plt.bar(list(labels_unique), avg_numbers, width=0.8, color=['red', 'green'])\n",
    "plt.xlabel('cuisine')\n",
    "plt.ylabel('avg')\n",
    "plt.title('avg number of ingredients by cuisine')\n",
    "plt.show()"
   ]
  },
  {
   "cell_type": "markdown",
   "id": "1ae54d69",
   "metadata": {},
   "source": [
    "# Training: Choose your poison\n",
    "**Goal: predict the label 'cuisine' from the ingredients.**\n",
    "\n"
   ]
  },
  {
   "cell_type": "code",
   "execution_count": 6,
   "id": "1325351e",
   "metadata": {},
   "outputs": [],
   "source": [
    "# Create and fit your model on the training data."
   ]
  },
  {
   "cell_type": "markdown",
   "id": "8c705dd6",
   "metadata": {},
   "source": [
    "# Evaluation:"
   ]
  },
  {
   "cell_type": "markdown",
   "id": "91e35779",
   "metadata": {},
   "source": [
    "## Performance Metrics\n"
   ]
  },
  {
   "cell_type": "code",
   "execution_count": 7,
   "id": "8059e32d",
   "metadata": {},
   "outputs": [],
   "source": [
    "# write code to compute your preferred performance metrics on training and test data\n"
   ]
  },
  {
   "cell_type": "markdown",
   "id": "50ac902d",
   "metadata": {},
   "source": [
    "## Confusion Matrix"
   ]
  },
  {
   "cell_type": "code",
   "execution_count": 8,
   "id": "cb3079ea",
   "metadata": {},
   "outputs": [],
   "source": [
    "# write code to plot a confusion matrix"
   ]
  },
  {
   "cell_type": "markdown",
   "id": "ae89e347",
   "metadata": {},
   "source": [
    "## ROC Curve"
   ]
  },
  {
   "cell_type": "code",
   "execution_count": 9,
   "id": "675d45ee",
   "metadata": {},
   "outputs": [],
   "source": [
    "# write code to draw a ROC curve per class in your model"
   ]
  }
 ],
 "metadata": {
  "interpreter": {
   "hash": "df38acc2a6c4dd932908140766564a9ff0086967b798b8a390bbaba627b3ea38"
  },
  "kernelspec": {
   "display_name": "Python 3",
   "language": "python",
   "name": "python3"
  },
  "language_info": {
   "codemirror_mode": {
    "name": "ipython",
    "version": 3
   },
   "file_extension": ".py",
   "mimetype": "text/x-python",
   "name": "python",
   "nbconvert_exporter": "python",
   "pygments_lexer": "ipython3",
   "version": "3.8.8"
  }
 },
 "nbformat": 4,
 "nbformat_minor": 5
}
