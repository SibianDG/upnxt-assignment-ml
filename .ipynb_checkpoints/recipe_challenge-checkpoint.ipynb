{
 "cells": [
  {
   "cell_type": "markdown",
   "id": "8836cbdc",
   "metadata": {},
   "source": [
    "# Imports"
   ]
  },
  {
   "cell_type": "code",
   "execution_count": 1,
   "id": "87406656",
   "metadata": {},
   "outputs": [],
   "source": [
    "import pickle\n",
    "# further imports go here\n"
   ]
  },
  {
   "cell_type": "markdown",
   "id": "06a48ed0",
   "metadata": {},
   "source": [
    "# Load Data"
   ]
  },
  {
   "cell_type": "code",
   "execution_count": 2,
   "id": "124406a5",
   "metadata": {},
   "outputs": [],
   "source": [
    "with open('train_set_top_5.pkl', 'rb') as f:\n",
    "    train_set_top_5 = pickle.load(f)\n",
    "\n",
    "with open('test_set_top_5.pkl', 'rb') as f:\n",
    "    test_set_top_5 = pickle.load(f)\n",
    "\n"
   ]
  },
  {
   "cell_type": "code",
   "execution_count": 3,
   "id": "644dae9e",
   "metadata": {
    "scrolled": true
   },
   "outputs": [
    {
     "data": {
      "text/plain": [
       "[{'id': 14215,\n",
       "  'cuisine': 'italian',\n",
       "  'ingredients': ['bread crumbs',\n",
       "   'large eggs',\n",
       "   'all-purpose flour',\n",
       "   'fresh basil',\n",
       "   'crushed tomatoes',\n",
       "   'shallots',\n",
       "   'dried oregano',\n",
       "   'mozzarella cheese',\n",
       "   'grated parmesan cheese',\n",
       "   'garlic cloves',\n",
       "   'boneless chicken thighs',\n",
       "   'olive oil',\n",
       "   'crushed red pepper flakes']},\n",
       " {'id': 13633,\n",
       "  'cuisine': 'italian',\n",
       "  'ingredients': ['black pepper',\n",
       "   'salt',\n",
       "   'tomatoes',\n",
       "   'large eggs',\n",
       "   'red bell pepper',\n",
       "   'olive oil',\n",
       "   'garlic cloves',\n",
       "   'fresh basil',\n",
       "   'whole milk',\n",
       "   'flat leaf parsley']},\n",
       " {'id': 33001,\n",
       "  'cuisine': 'indian',\n",
       "  'ingredients': ['water',\n",
       "   'oil',\n",
       "   'semolina',\n",
       "   'cardamom',\n",
       "   'Nido Milk Powder',\n",
       "   'sugar',\n",
       "   'teas']}]"
      ]
     },
     "execution_count": 3,
     "metadata": {},
     "output_type": "execute_result"
    }
   ],
   "source": [
    "train_set_top_5[:3]"
   ]
  },
  {
   "cell_type": "markdown",
   "id": "0837368a",
   "metadata": {},
   "source": [
    "# Inspect Labels"
   ]
  },
  {
   "cell_type": "code",
   "execution_count": 4,
   "id": "32a300db",
   "metadata": {},
   "outputs": [
    {
     "data": {
      "text/plain": [
       "[('italian', 6294),\n",
       " ('mexican', 5133),\n",
       " ('southern_us', 3445),\n",
       " ('indian', 2435),\n",
       " ('chinese', 2110)]"
      ]
     },
     "execution_count": 4,
     "metadata": {},
     "output_type": "execute_result"
    }
   ],
   "source": [
    "import collections\n",
    "labels = [el[\"cuisine\"] for el in train_set_top_5]\n",
    "sorted(collections.Counter(labels).items(), key=lambda x: x[1], reverse=True)"
   ]
  },
  {
   "cell_type": "code",
   "execution_count": null,
   "id": "66d9a9f0",
   "metadata": {},
   "outputs": [],
   "source": []
  },
  {
   "cell_type": "markdown",
   "id": "4b094c85",
   "metadata": {},
   "source": [
    "# Preprocessing & Feature Engineering"
   ]
  },
  {
   "cell_type": "code",
   "execution_count": 5,
   "id": "da280362",
   "metadata": {},
   "outputs": [],
   "source": [
    "# Write your preprocessing and feature engineering code"
   ]
  },
  {
   "cell_type": "markdown",
   "id": "1ae54d69",
   "metadata": {},
   "source": [
    "# Training: Choose your poison\n",
    "**Goal: predict the label 'cuisine' from the ingredients.**\n",
    "\n"
   ]
  },
  {
   "cell_type": "code",
   "execution_count": 6,
   "id": "1325351e",
   "metadata": {},
   "outputs": [],
   "source": [
    "# Create and fit your model on the training data."
   ]
  },
  {
   "cell_type": "markdown",
   "id": "8c705dd6",
   "metadata": {},
   "source": [
    "# Evaluation:"
   ]
  },
  {
   "cell_type": "markdown",
   "id": "91e35779",
   "metadata": {},
   "source": [
    "## Performance Metrics\n"
   ]
  },
  {
   "cell_type": "code",
   "execution_count": 7,
   "id": "8059e32d",
   "metadata": {},
   "outputs": [],
   "source": [
    "# write code to compute your preferred performance metrics on training and test data\n"
   ]
  },
  {
   "cell_type": "markdown",
   "id": "50ac902d",
   "metadata": {},
   "source": [
    "## Confusion Matrix"
   ]
  },
  {
   "cell_type": "code",
   "execution_count": 8,
   "id": "cb3079ea",
   "metadata": {},
   "outputs": [],
   "source": [
    "# write code to plot a confusion matrix"
   ]
  },
  {
   "cell_type": "markdown",
   "id": "ae89e347",
   "metadata": {},
   "source": [
    "## ROC Curve"
   ]
  },
  {
   "cell_type": "code",
   "execution_count": 9,
   "id": "675d45ee",
   "metadata": {},
   "outputs": [],
   "source": [
    "# write code to draw a ROC curve per class in your model"
   ]
  }
 ],
 "metadata": {
  "interpreter": {
   "hash": "df38acc2a6c4dd932908140766564a9ff0086967b798b8a390bbaba627b3ea38"
  },
  "kernelspec": {
   "display_name": "Python 3",
   "language": "python",
   "name": "python3"
  },
  "language_info": {
   "codemirror_mode": {
    "name": "ipython",
    "version": 3
   },
   "file_extension": ".py",
   "mimetype": "text/x-python",
   "name": "python",
   "nbconvert_exporter": "python",
   "pygments_lexer": "ipython3",
   "version": "3.8.8"
  }
 },
 "nbformat": 4,
 "nbformat_minor": 5
}
